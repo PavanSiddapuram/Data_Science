{
 "cells": [
  {
   "cell_type": "markdown",
   "id": "eae13cae",
   "metadata": {},
   "source": [
    "# Exercise: Train and Run Your First Model\n",
    "\n",
    "We've learned that models are computer code that processes information to make a prediction or a decision. Here, we train a model to guess a comfortable boot size for a dog, based on the size of the harness that fits them.\n",
    "\n",
    "In the examples below, there's no need to edit any code. Try to read it, understand it, then press the run button to run it. As always with these notebooks, it's vitally important that these code blocks are run in the correct order, and nothing is missed.\n",
    "\n",
    "> **Note**: If you've never used the Jupyter Notebooks environment before, there are a few things you should be aware of:\n",
    "> \n",
    "> - Notebooks are made up of *cells*. Some cells (like this one) contain *markdown* text, while others contain code.\n",
    "> - You can run each code cell by using the **&#9658; Run** button. The **&#9658; Run** button will show up when you hover over the cell.\n",
    "> - The output from each code cell will be displayed immediately below the cell.\n",
    "> - Even though the code cells can be run individually, some variables used in the code are global to the notebook. That means that you should run all of the code cells <u>**in order**</u>. There may be dependencies between code cells, so if you skip a cell, subsequent cells might not run correctly.\n",
    "\n",
    "## Preparing data\n",
    "\n",
    "The first thing we do with a model is load data. We cover this in more detail in a later exercise. For now, we just write our data directly in our code. Review and run the following code to get started:\n"
   ]
  },
  {
   "cell_type": "code",
   "execution_count": 57,
   "id": "09348340",
   "metadata": {},
   "outputs": [
    {
     "name": "stderr",
     "output_type": "stream",
     "text": [
      "'wget' is not recognized as an internal or external command,\n",
      "operable program or batch file.\n",
      "'wget' is not recognized as an internal or external command,\n",
      "operable program or batch file.\n"
     ]
    },
    {
     "name": "stdout",
     "output_type": "stream",
     "text": [
      "Requirement already satisfied: statsmodels in c:\\users\\sidda\\anaconda3\\lib\\site-packages (0.14.0)\n",
      "Requirement already satisfied: numpy>=1.18 in c:\\users\\sidda\\anaconda3\\lib\\site-packages (from statsmodels) (1.24.3)\n",
      "Requirement already satisfied: scipy!=1.9.2,>=1.4 in c:\\users\\sidda\\anaconda3\\lib\\site-packages (from statsmodels) (1.11.1)\n",
      "Requirement already satisfied: pandas>=1.0 in c:\\users\\sidda\\anaconda3\\lib\\site-packages (from statsmodels) (2.0.3)\n",
      "Requirement already satisfied: patsy>=0.5.2 in c:\\users\\sidda\\anaconda3\\lib\\site-packages (from statsmodels) (0.5.3)\n",
      "Requirement already satisfied: packaging>=21.3 in c:\\users\\sidda\\anaconda3\\lib\\site-packages (from statsmodels) (23.1)\n",
      "Requirement already satisfied: python-dateutil>=2.8.2 in c:\\users\\sidda\\anaconda3\\lib\\site-packages (from pandas>=1.0->statsmodels) (2.8.2)\n",
      "Requirement already satisfied: pytz>=2020.1 in c:\\users\\sidda\\anaconda3\\lib\\site-packages (from pandas>=1.0->statsmodels) (2023.3.post1)\n",
      "Requirement already satisfied: tzdata>=2022.1 in c:\\users\\sidda\\anaconda3\\lib\\site-packages (from pandas>=1.0->statsmodels) (2023.3)\n",
      "Requirement already satisfied: six in c:\\users\\sidda\\anaconda3\\lib\\site-packages (from patsy>=0.5.2->statsmodels) (1.16.0)\n"
     ]
    },
    {
     "data": {
      "text/html": [
       "<div>\n",
       "<style scoped>\n",
       "    .dataframe tbody tr th:only-of-type {\n",
       "        vertical-align: middle;\n",
       "    }\n",
       "\n",
       "    .dataframe tbody tr th {\n",
       "        vertical-align: top;\n",
       "    }\n",
       "\n",
       "    .dataframe thead th {\n",
       "        text-align: right;\n",
       "    }\n",
       "</style>\n",
       "<table border=\"1\" class=\"dataframe\">\n",
       "  <thead>\n",
       "    <tr style=\"text-align: right;\">\n",
       "      <th></th>\n",
       "      <th>boot_size</th>\n",
       "      <th>harness_size</th>\n",
       "    </tr>\n",
       "  </thead>\n",
       "  <tbody>\n",
       "    <tr>\n",
       "      <th>0</th>\n",
       "      <td>39</td>\n",
       "      <td>58</td>\n",
       "    </tr>\n",
       "    <tr>\n",
       "      <th>1</th>\n",
       "      <td>38</td>\n",
       "      <td>58</td>\n",
       "    </tr>\n",
       "    <tr>\n",
       "      <th>2</th>\n",
       "      <td>37</td>\n",
       "      <td>52</td>\n",
       "    </tr>\n",
       "    <tr>\n",
       "      <th>3</th>\n",
       "      <td>39</td>\n",
       "      <td>58</td>\n",
       "    </tr>\n",
       "    <tr>\n",
       "      <th>4</th>\n",
       "      <td>38</td>\n",
       "      <td>57</td>\n",
       "    </tr>\n",
       "    <tr>\n",
       "      <th>5</th>\n",
       "      <td>35</td>\n",
       "      <td>52</td>\n",
       "    </tr>\n",
       "    <tr>\n",
       "      <th>6</th>\n",
       "      <td>37</td>\n",
       "      <td>55</td>\n",
       "    </tr>\n",
       "    <tr>\n",
       "      <th>7</th>\n",
       "      <td>36</td>\n",
       "      <td>53</td>\n",
       "    </tr>\n",
       "    <tr>\n",
       "      <th>8</th>\n",
       "      <td>35</td>\n",
       "      <td>49</td>\n",
       "    </tr>\n",
       "    <tr>\n",
       "      <th>9</th>\n",
       "      <td>40</td>\n",
       "      <td>54</td>\n",
       "    </tr>\n",
       "    <tr>\n",
       "      <th>10</th>\n",
       "      <td>40</td>\n",
       "      <td>59</td>\n",
       "    </tr>\n",
       "    <tr>\n",
       "      <th>11</th>\n",
       "      <td>36</td>\n",
       "      <td>56</td>\n",
       "    </tr>\n",
       "    <tr>\n",
       "      <th>12</th>\n",
       "      <td>38</td>\n",
       "      <td>53</td>\n",
       "    </tr>\n",
       "    <tr>\n",
       "      <th>13</th>\n",
       "      <td>39</td>\n",
       "      <td>58</td>\n",
       "    </tr>\n",
       "    <tr>\n",
       "      <th>14</th>\n",
       "      <td>42</td>\n",
       "      <td>57</td>\n",
       "    </tr>\n",
       "    <tr>\n",
       "      <th>15</th>\n",
       "      <td>42</td>\n",
       "      <td>58</td>\n",
       "    </tr>\n",
       "    <tr>\n",
       "      <th>16</th>\n",
       "      <td>36</td>\n",
       "      <td>56</td>\n",
       "    </tr>\n",
       "    <tr>\n",
       "      <th>17</th>\n",
       "      <td>36</td>\n",
       "      <td>51</td>\n",
       "    </tr>\n",
       "    <tr>\n",
       "      <th>18</th>\n",
       "      <td>35</td>\n",
       "      <td>50</td>\n",
       "    </tr>\n",
       "    <tr>\n",
       "      <th>19</th>\n",
       "      <td>41</td>\n",
       "      <td>59</td>\n",
       "    </tr>\n",
       "    <tr>\n",
       "      <th>20</th>\n",
       "      <td>42</td>\n",
       "      <td>59</td>\n",
       "    </tr>\n",
       "    <tr>\n",
       "      <th>21</th>\n",
       "      <td>38</td>\n",
       "      <td>59</td>\n",
       "    </tr>\n",
       "    <tr>\n",
       "      <th>22</th>\n",
       "      <td>37</td>\n",
       "      <td>55</td>\n",
       "    </tr>\n",
       "    <tr>\n",
       "      <th>23</th>\n",
       "      <td>35</td>\n",
       "      <td>50</td>\n",
       "    </tr>\n",
       "    <tr>\n",
       "      <th>24</th>\n",
       "      <td>40</td>\n",
       "      <td>55</td>\n",
       "    </tr>\n",
       "    <tr>\n",
       "      <th>25</th>\n",
       "      <td>36</td>\n",
       "      <td>52</td>\n",
       "    </tr>\n",
       "    <tr>\n",
       "      <th>26</th>\n",
       "      <td>35</td>\n",
       "      <td>53</td>\n",
       "    </tr>\n",
       "    <tr>\n",
       "      <th>27</th>\n",
       "      <td>39</td>\n",
       "      <td>54</td>\n",
       "    </tr>\n",
       "    <tr>\n",
       "      <th>28</th>\n",
       "      <td>41</td>\n",
       "      <td>61</td>\n",
       "    </tr>\n",
       "    <tr>\n",
       "      <th>29</th>\n",
       "      <td>37</td>\n",
       "      <td>56</td>\n",
       "    </tr>\n",
       "    <tr>\n",
       "      <th>30</th>\n",
       "      <td>35</td>\n",
       "      <td>55</td>\n",
       "    </tr>\n",
       "    <tr>\n",
       "      <th>31</th>\n",
       "      <td>41</td>\n",
       "      <td>60</td>\n",
       "    </tr>\n",
       "    <tr>\n",
       "      <th>32</th>\n",
       "      <td>39</td>\n",
       "      <td>57</td>\n",
       "    </tr>\n",
       "    <tr>\n",
       "      <th>33</th>\n",
       "      <td>41</td>\n",
       "      <td>56</td>\n",
       "    </tr>\n",
       "    <tr>\n",
       "      <th>34</th>\n",
       "      <td>42</td>\n",
       "      <td>61</td>\n",
       "    </tr>\n",
       "    <tr>\n",
       "      <th>35</th>\n",
       "      <td>42</td>\n",
       "      <td>58</td>\n",
       "    </tr>\n",
       "    <tr>\n",
       "      <th>36</th>\n",
       "      <td>36</td>\n",
       "      <td>53</td>\n",
       "    </tr>\n",
       "    <tr>\n",
       "      <th>37</th>\n",
       "      <td>37</td>\n",
       "      <td>57</td>\n",
       "    </tr>\n",
       "    <tr>\n",
       "      <th>38</th>\n",
       "      <td>37</td>\n",
       "      <td>57</td>\n",
       "    </tr>\n",
       "    <tr>\n",
       "      <th>39</th>\n",
       "      <td>39</td>\n",
       "      <td>55</td>\n",
       "    </tr>\n",
       "    <tr>\n",
       "      <th>40</th>\n",
       "      <td>42</td>\n",
       "      <td>60</td>\n",
       "    </tr>\n",
       "    <tr>\n",
       "      <th>41</th>\n",
       "      <td>35</td>\n",
       "      <td>51</td>\n",
       "    </tr>\n",
       "    <tr>\n",
       "      <th>42</th>\n",
       "      <td>36</td>\n",
       "      <td>52</td>\n",
       "    </tr>\n",
       "    <tr>\n",
       "      <th>43</th>\n",
       "      <td>41</td>\n",
       "      <td>56</td>\n",
       "    </tr>\n",
       "    <tr>\n",
       "      <th>44</th>\n",
       "      <td>41</td>\n",
       "      <td>55</td>\n",
       "    </tr>\n",
       "    <tr>\n",
       "      <th>45</th>\n",
       "      <td>41</td>\n",
       "      <td>57</td>\n",
       "    </tr>\n",
       "    <tr>\n",
       "      <th>46</th>\n",
       "      <td>39</td>\n",
       "      <td>58</td>\n",
       "    </tr>\n",
       "    <tr>\n",
       "      <th>47</th>\n",
       "      <td>39</td>\n",
       "      <td>57</td>\n",
       "    </tr>\n",
       "    <tr>\n",
       "      <th>48</th>\n",
       "      <td>35</td>\n",
       "      <td>51</td>\n",
       "    </tr>\n",
       "    <tr>\n",
       "      <th>49</th>\n",
       "      <td>39</td>\n",
       "      <td>59</td>\n",
       "    </tr>\n",
       "  </tbody>\n",
       "</table>\n",
       "</div>"
      ],
      "text/plain": [
       "    boot_size  harness_size\n",
       "0          39            58\n",
       "1          38            58\n",
       "2          37            52\n",
       "3          39            58\n",
       "4          38            57\n",
       "5          35            52\n",
       "6          37            55\n",
       "7          36            53\n",
       "8          35            49\n",
       "9          40            54\n",
       "10         40            59\n",
       "11         36            56\n",
       "12         38            53\n",
       "13         39            58\n",
       "14         42            57\n",
       "15         42            58\n",
       "16         36            56\n",
       "17         36            51\n",
       "18         35            50\n",
       "19         41            59\n",
       "20         42            59\n",
       "21         38            59\n",
       "22         37            55\n",
       "23         35            50\n",
       "24         40            55\n",
       "25         36            52\n",
       "26         35            53\n",
       "27         39            54\n",
       "28         41            61\n",
       "29         37            56\n",
       "30         35            55\n",
       "31         41            60\n",
       "32         39            57\n",
       "33         41            56\n",
       "34         42            61\n",
       "35         42            58\n",
       "36         36            53\n",
       "37         37            57\n",
       "38         37            57\n",
       "39         39            55\n",
       "40         42            60\n",
       "41         35            51\n",
       "42         36            52\n",
       "43         41            56\n",
       "44         41            55\n",
       "45         41            57\n",
       "46         39            58\n",
       "47         39            57\n",
       "48         35            51\n",
       "49         39            59"
      ]
     },
     "execution_count": 57,
     "metadata": {},
     "output_type": "execute_result"
    }
   ],
   "source": [
    "import pandas\n",
    "!wget https://raw.githubusercontent.com/MicrosoftDocs/mslearn-introduction-to-machine-learning/main/graphing.py\n",
    "!wget https://raw.githubusercontent.com/MicrosoftDocs/mslearn-introduction-to-machine-learning/main/Data/doggy-boot-harness.csv\n",
    "!pip install statsmodels\n",
    "\n",
    "\n",
    "# Make a dictionary of data for boot sizes\n",
    "# and harness sizes in cm\n",
    "data = {\n",
    "    'boot_size' : [ 39, 38, 37, 39, 38, 35, 37, 36, 35, 40, \n",
    "                    40, 36, 38, 39, 42, 42, 36, 36, 35, 41, \n",
    "                    42, 38, 37, 35, 40, 36, 35, 39, 41, 37, \n",
    "                    35, 41, 39, 41, 42, 42, 36, 37, 37, 39,\n",
    "                    42, 35, 36, 41, 41, 41, 39, 39, 35, 39\n",
    " ],\n",
    "    'harness_size': [ 58, 58, 52, 58, 57, 52, 55, 53, 49, 54,\n",
    "                59, 56, 53, 58, 57, 58, 56, 51, 50, 59,\n",
    "                59, 59, 55, 50, 55, 52, 53, 54, 61, 56,\n",
    "                55, 60, 57, 56, 61, 58, 53, 57, 57, 55,\n",
    "                60, 51, 52, 56, 55, 57, 58, 57, 51, 59\n",
    "                ]\n",
    "}\n",
    "\n",
    "# Convert it into a table using pandas\n",
    "dataset = pandas.DataFrame(data)\n",
    "\n",
    "# Print the data\n",
    "# In normal python we would write\n",
    "# print(dataset)\n",
    "# but in Jupyter notebooks, we simply write the name\n",
    "# of the variable and it is printed nicely \n",
    "dataset"
   ]
  },
  {
   "cell_type": "markdown",
   "id": "51fb89a2",
   "metadata": {},
   "source": [
    "As you can see, we have the sizes of boots and harnesses for 50 avalanche dogs.\n",
    "\n",
    "We want to use harness size to estimate boot size. This means harness_size is our input. We want a model that will process the input and make its own estimations of the boot size (output)."
   ]
  },
  {
   "cell_type": "markdown",
   "id": "30501bad",
   "metadata": {},
   "source": [
    "# Select a model"
   ]
  },
  {
   "cell_type": "markdown",
   "id": "df3465e5",
   "metadata": {},
   "source": [
    "The first thing we must do is select a model. We're just getting started, so let's start with a very simple model called OLS. This is just a straight line (sometimes called a trendline).\n",
    "\n",
    "Let's use an existing library to create our model, but we won't train it yet."
   ]
  },
  {
   "cell_type": "code",
   "execution_count": 58,
   "id": "e0fc3edb",
   "metadata": {},
   "outputs": [
    {
     "name": "stdout",
     "output_type": "stream",
     "text": [
      "Requirement already satisfied: statsmodels in c:\\users\\sidda\\anaconda3\\lib\\site-packages (0.14.0)\n",
      "Requirement already satisfied: numpy>=1.18 in c:\\users\\sidda\\anaconda3\\lib\\site-packages (from statsmodels) (1.24.3)\n",
      "Requirement already satisfied: scipy!=1.9.2,>=1.4 in c:\\users\\sidda\\anaconda3\\lib\\site-packages (from statsmodels) (1.11.1)\n",
      "Requirement already satisfied: pandas>=1.0 in c:\\users\\sidda\\anaconda3\\lib\\site-packages (from statsmodels) (2.0.3)\n",
      "Requirement already satisfied: patsy>=0.5.2 in c:\\users\\sidda\\anaconda3\\lib\\site-packages (from statsmodels) (0.5.3)\n",
      "Requirement already satisfied: packaging>=21.3 in c:\\users\\sidda\\anaconda3\\lib\\site-packages (from statsmodels) (23.1)\n",
      "Requirement already satisfied: python-dateutil>=2.8.2 in c:\\users\\sidda\\anaconda3\\lib\\site-packages (from pandas>=1.0->statsmodels) (2.8.2)\n",
      "Requirement already satisfied: pytz>=2020.1 in c:\\users\\sidda\\anaconda3\\lib\\site-packages (from pandas>=1.0->statsmodels) (2023.3.post1)\n",
      "Requirement already satisfied: tzdata>=2022.1 in c:\\users\\sidda\\anaconda3\\lib\\site-packages (from pandas>=1.0->statsmodels) (2023.3)\n",
      "Requirement already satisfied: six in c:\\users\\sidda\\anaconda3\\lib\\site-packages (from patsy>=0.5.2->statsmodels) (1.16.0)\n",
      "Note: you may need to restart the kernel to use updated packages.\n"
     ]
    }
   ],
   "source": [
    "pip install statsmodels"
   ]
  },
  {
   "cell_type": "code",
   "execution_count": 59,
   "id": "7c01c222",
   "metadata": {},
   "outputs": [
    {
     "name": "stdout",
     "output_type": "stream",
     "text": [
      "Model selected but it does not have parameters set. We need to train it!\n"
     ]
    }
   ],
   "source": [
    "# Load a library to do the hard work for us\n",
    "import statsmodels.formula.api as smf\n",
    "\n",
    "# First, we define our formula using a special syntax\n",
    "# This says that boot_size is explained by harness_size\n",
    "formula = \"boot_size ~ harness_size\"\n",
    "\n",
    "# Create the model, but don't train it yet\n",
    "model = smf.ols(formula = formula, data = dataset)\n",
    "\n",
    "# Note that we have created our model but it does not \n",
    "# have internal parameters set yet\n",
    "if not hasattr(model, 'params'):\n",
    "    print(\"Model selected but it does not have parameters set. We need to train it!\")"
   ]
  },
  {
   "cell_type": "markdown",
   "id": "e1017244",
   "metadata": {},
   "source": [
    "## Train our model\n",
    "\n",
    "OLS models have two parameters (a slope and an offset), but these haven't been set in our model yet. We need to _train_ (_fit_) our model to find these values so that the model can reliably estimate dogs' boot size based on their harness size. \n",
    "\n",
    "The following code fits our model to data you've now seen:"
   ]
  },
  {
   "cell_type": "code",
   "execution_count": 60,
   "id": "f4967cfe",
   "metadata": {},
   "outputs": [
    {
     "name": "stdout",
     "output_type": "stream",
     "text": [
      "The following model parameters have been found:\n",
      "Line slope: 0.5859254167382713\n",
      "Line Intercept: 5.7191098126825874\n"
     ]
    }
   ],
   "source": [
    "# Train (fit) the model so that it creates a line that \n",
    "# fits our data. This method does the hard work for\n",
    "# us. We will look at how this method works in a later unit.\n",
    "fitted_model = model.fit()\n",
    "\n",
    "# Print information about our model now it has been fit\n",
    "print(\"The following model parameters have been found:\\n\" +\n",
    "        f\"Line slope: {fitted_model.params[1]}\\n\"+\n",
    "        f\"Line Intercept: {fitted_model.params[0]}\")"
   ]
  },
  {
   "cell_type": "markdown",
   "id": "ecd03127",
   "metadata": {},
   "source": [
    "Notice how training the model set its parameters. We could interpret these directly, but it's simpler to see it as a graph:\n"
   ]
  },
  {
   "cell_type": "code",
   "execution_count": 61,
   "id": "c9c23eaa",
   "metadata": {},
   "outputs": [
    {
     "data": {
      "text/plain": [
       "<matplotlib.legend.Legend at 0x149200362d0>"
      ]
     },
     "execution_count": 61,
     "metadata": {},
     "output_type": "execute_result"
    },
    {
     "data": {
      "image/png": "[encoded data removed]",
      "text/plain": [
       "<Figure size 640x480 with 1 Axes>"
      ]
     },
     "metadata": {},
     "output_type": "display_data"
    }
   ],
   "source": [
    "import matplotlib.pyplot as plt\n",
    "\n",
    "# Show a scatter plot of the data points and add the fitted line\n",
    "# Don't worry about how this works for now\n",
    "plt.scatter(dataset[\"harness_size\"], dataset[\"boot_size\"])\n",
    "plt.plot(dataset[\"harness_size\"], fitted_model.params[1] * dataset[\"harness_size\"] + fitted_model.params[0], 'r', label='Fitted line')\n",
    "\n",
    "# add labels and legend\n",
    "plt.xlabel(\"harness_size\")\n",
    "plt.ylabel(\"boot_size\")\n",
    "plt.legend()"
   ]
  },
  {
   "cell_type": "markdown",
   "id": "76f68887",
   "metadata": {},
   "source": [
    "The graph above shows our original data as circles with a red line through it. The red line shows our _model_.\n",
    "\n",
    "We can look at this line to understand our model. For example, we can see that as harness size increases, so will the estimated boot size. \n",
    "\n",
    "## Use the model\n",
    "\n",
    "Now that we've finished training, we can use our model to predict a dog's boot size from their harness size. \n",
    "\n",
    "For example, by looking at the red line, we can see that that a harness size of `52.5` (x axis) corresponds to a boot size of about `36.5` (y axis).\n",
    "\n",
    "We don't have to do this by eye though. We can use the model in our program to predict any boot size we like. Run the following code to see how we can use our model now that it's trained:"
   ]
  },
  {
   "cell_type": "code",
   "execution_count": 62,
   "id": "7ce210a7",
   "metadata": {},
   "outputs": [
    {
     "name": "stdout",
     "output_type": "stream",
     "text": [
      "Estimated approximate_boot_size:\n",
      "36.480194191441825\n"
     ]
    }
   ],
   "source": [
    "# harness_size states the size of the harness we are interested in\n",
    "harness_size = { 'harness_size' : [52.5] }\n",
    "\n",
    "# Use the model to predict what size of boots the dog will fit\n",
    "approximate_boot_size = fitted_model.predict(harness_size)\n",
    "\n",
    "# Print the result\n",
    "print(\"Estimated approximate_boot_size:\")\n",
    "print(approximate_boot_size[0])"
   ]
  },
  {
   "cell_type": "markdown",
   "id": "1cf96b49",
   "metadata": {},
   "source": [
    "If you'd like, change the value of `52.5` in `harness_size` to a new value and run the block above to see the model in action.\n",
    "\n",
    "## Summary\n",
    "\n",
    "Well done! You've trained your first model. We've demonstrated some topics here without detailed explanation in order to just get your feet wet. In later units, we explain many of these topics in more detail."
   ]
  },
  {
   "cell_type": "markdown",
   "id": "4f958788",
   "metadata": {},
   "source": [
    "# What are inputs and outputs?\n"
   ]
  },
  {
   "cell_type": "markdown",
   "id": "c7730e28",
   "metadata": {},
   "source": [
    "The goal of training is to improve a model so that it can make high-quality estimations or predictions. Once trained, you can use a model in the real world like normal software.\n",
    "\n",
    "Models don’t train themselves. They're trained using data plus two pieces of code, the objective function and the optimizer. Let’s explore how these components work together to train a model to work well."
   ]
  },
  {
   "cell_type": "markdown",
   "id": "22e54b0b",
   "metadata": {},
   "source": [
    "## The objective\n",
    "The objective is what we want the model to be able to do. For example, the objective of our scenario is to be able to estimate a dog’s boot size based on their harness size.\n",
    "\n",
    "For a computer to understand our objective, we need to provide our goal as a code snippet called an objective function (also known as a cost function). Objective functions judge whether the model is doing a good job (estimating boot size well) or bad job (estimating boot size badly). We cover objective functions in more depth in later learning material.\n",
    "\n",
    "## The data\n",
    "Data refers to the information that we provide to the model (also known as inputs). In our scenario, the input is harness size.\n",
    "\n",
    "Data also refers to information that the objective function might need. For example, if our objective function reports whether the model guessed the boot size correctly, it needs to know the correct boot size! For this reason, in our previous exercise, we provided both harness sizes and the correct answers to the training code.\n",
    "\n",
    "We'll practice working with data in the next exercise.\n",
    "\n",
    "## The optimizer\n",
    "During training, the model makes a prediction, and the objective function calculates how well it performed. The optimizer is code that then changes the model’s parameters so the model will do a better job next time.\n",
    "\n",
    "How an optimizer adjusts the parameters is complex, and something we cover in later material. Don’t be intimidated, though; we don’t normally write our own optimizers, we use open-source frameworks where the hard work has been done for us.\n",
    "\n",
    "It's important to keep in mind that the objective, data, and optimizer are simply a means to train the model. They aren't needed once training is complete. It's also important to remember that training only changes the parameter values inside of a model; it doesn't change what kind of model is used."
   ]
  },
  {
   "cell_type": "markdown",
   "id": "d98fc3d8",
   "metadata": {},
   "source": [
    "# Exercise - Visualize inputs and output"
   ]
  },
  {
   "cell_type": "markdown",
   "id": "623a7aa7",
   "metadata": {},
   "source": [
    "## Exercise: Datasets in Python\n",
    "In the previous exercise, we loaded some data and fit a model to it. Several aspects of this were simplified, particularly that the data was hard-coded into our python script, and we didn't spend any time really looking at the data itself.\n",
    "\n",
    "Here, we load data from a file, filter it, and graph it. Doing so is a very important first step in order to build proper models, or to understand their limitations.\n",
    "\n",
    "As before, there's no need to edit any code in the examples in this unit. Try to read it, understand it, then press the Run button to run it. As always, it's vitally important that these code blocks are run in the correct order, and nothing is missed.\n",
    "\n",
    "## Load data with Pandas\n",
    "There are various libraries that help you work with data. In Python, one of the most common libraries is Pandas. We used pandas briefly in the previous exercise. Pandas can open data saved as text files and store it in an organized table called a DataFrame.\n",
    "\n",
    "Let's open some text data that's stored on disk. Our data is saved in a file called doggy-boot-harness.csv."
   ]
  },
  {
   "cell_type": "code",
   "execution_count": 63,
   "id": "a9447849",
   "metadata": {},
   "outputs": [
    {
     "name": "stderr",
     "output_type": "stream",
     "text": [
      "'wget' is not recognized as an internal or external command,\n",
      "operable program or batch file.\n",
      "'wget' is not recognized as an internal or external command,\n",
      "operable program or batch file.\n"
     ]
    },
    {
     "data": {
      "text/html": [
       "<div>\n",
       "<style scoped>\n",
       "    .dataframe tbody tr th:only-of-type {\n",
       "        vertical-align: middle;\n",
       "    }\n",
       "\n",
       "    .dataframe tbody tr th {\n",
       "        vertical-align: top;\n",
       "    }\n",
       "\n",
       "    .dataframe thead th {\n",
       "        text-align: right;\n",
       "    }\n",
       "</style>\n",
       "<table border=\"1\" class=\"dataframe\">\n",
       "  <thead>\n",
       "    <tr style=\"text-align: right;\">\n",
       "      <th></th>\n",
       "      <th>boot_size</th>\n",
       "      <th>harness_size</th>\n",
       "      <th>sex</th>\n",
       "      <th>age_years</th>\n",
       "    </tr>\n",
       "  </thead>\n",
       "  <tbody>\n",
       "    <tr>\n",
       "      <th>0</th>\n",
       "      <td>39</td>\n",
       "      <td>58</td>\n",
       "      <td>male</td>\n",
       "      <td>12.0</td>\n",
       "    </tr>\n",
       "    <tr>\n",
       "      <th>1</th>\n",
       "      <td>38</td>\n",
       "      <td>58</td>\n",
       "      <td>male</td>\n",
       "      <td>9.6</td>\n",
       "    </tr>\n",
       "    <tr>\n",
       "      <th>2</th>\n",
       "      <td>37</td>\n",
       "      <td>52</td>\n",
       "      <td>female</td>\n",
       "      <td>8.6</td>\n",
       "    </tr>\n",
       "    <tr>\n",
       "      <th>3</th>\n",
       "      <td>39</td>\n",
       "      <td>58</td>\n",
       "      <td>male</td>\n",
       "      <td>10.2</td>\n",
       "    </tr>\n",
       "    <tr>\n",
       "      <th>4</th>\n",
       "      <td>38</td>\n",
       "      <td>57</td>\n",
       "      <td>male</td>\n",
       "      <td>7.8</td>\n",
       "    </tr>\n",
       "  </tbody>\n",
       "</table>\n",
       "</div>"
      ],
      "text/plain": [
       "   boot_size  harness_size     sex  age_years\n",
       "0         39            58    male       12.0\n",
       "1         38            58    male        9.6\n",
       "2         37            52  female        8.6\n",
       "3         39            58    male       10.2\n",
       "4         38            57    male        7.8"
      ]
     },
     "execution_count": 63,
     "metadata": {},
     "output_type": "execute_result"
    }
   ],
   "source": [
    "import pandas\n",
    "!wget https://raw.githubusercontent.com/MicrosoftDocs/mslearn-introduction-to-machine-learning/main/graphing.py\n",
    "!wget https://raw.githubusercontent.com/MicrosoftDocs/mslearn-introduction-to-machine-learning/main/Data/doggy-boot-harness.csv\n",
    "\n",
    "# Read the text file containing data using pandas\n",
    "dataset = pandas.read_csv(r\"C:\\Users\\Sidda\\Downloads\\doggy-boot-harness.csv\")\n",
    "\n",
    "# Print the data\n",
    "# Because there are a lot of data, use head() to only print the first few rows\n",
    "dataset.head()"
   ]
  },
  {
   "cell_type": "markdown",
   "id": "d1b19776",
   "metadata": {},
   "source": [
    "As you can see, this dataset contains information about dogs, including their doggy boot size, harness size, sex, and age in years.\n",
    "\n",
    "Data is stored as columns and rows, similar to a table you might see in Excel.\n",
    "\n",
    "## Filter data by Columns\n",
    "\n",
    "Data is easy to filter by columns. We can either type this directly, like `dataset.my_column_name`, or like so: `dataset[\"my_column_name\"]`.\n",
    "\n",
    "We can use this to either extract data, or to delete data.\n",
    "\n",
    "Lets take a look at the harness sizes, and delete the `sex` and `age_years` columns. "
   ]
  },
  {
   "cell_type": "code",
   "execution_count": 64,
   "id": "81a076d9",
   "metadata": {},
   "outputs": [
    {
     "name": "stdout",
     "output_type": "stream",
     "text": [
      "Harness sizes\n",
      "0     58\n",
      "1     58\n",
      "2     52\n",
      "3     58\n",
      "4     57\n",
      "5     52\n",
      "6     55\n",
      "7     53\n",
      "8     49\n",
      "9     54\n",
      "10    59\n",
      "11    56\n",
      "12    53\n",
      "13    58\n",
      "14    57\n",
      "15    58\n",
      "16    56\n",
      "17    51\n",
      "18    50\n",
      "19    59\n",
      "20    59\n",
      "21    59\n",
      "22    55\n",
      "23    50\n",
      "24    55\n",
      "25    52\n",
      "26    53\n",
      "27    54\n",
      "28    61\n",
      "29    56\n",
      "30    55\n",
      "31    60\n",
      "32    57\n",
      "33    56\n",
      "34    61\n",
      "35    58\n",
      "36    53\n",
      "37    57\n",
      "38    57\n",
      "39    55\n",
      "40    60\n",
      "41    51\n",
      "42    52\n",
      "43    56\n",
      "44    55\n",
      "45    57\n",
      "46    58\n",
      "47    57\n",
      "48    51\n",
      "49    59\n",
      "Name: harness_size, dtype: int64\n",
      "\n",
      "Available columns after deleting sex and age information:\n",
      "['boot_size' 'harness_size']\n"
     ]
    }
   ],
   "source": [
    "# Look at the harness sizes\n",
    "print(\"Harness sizes\")\n",
    "print(dataset.harness_size)\n",
    "\n",
    "# Remove the sex and age-in-years columns.\n",
    "del dataset[\"sex\"]\n",
    "del dataset[\"age_years\"]\n",
    "\n",
    "# Print the column names\n",
    "print(\"\\nAvailable columns after deleting sex and age information:\")\n",
    "print(dataset.columns.values)\n"
   ]
  },
  {
   "cell_type": "markdown",
   "id": "61309759",
   "metadata": {},
   "source": [
    "## Filter data by Rows\n",
    "\n",
    "We can get data from the top of the table by using the `head()` function, or from the bottom of the table by using the `tail()` function. \n",
    "\n",
    "Both functions make a shallow copy of a section of our dataframe. Here, we're sending these copies to the `print()` function. The head and tail views can also be used for other purposes, such as for use in analyses or graphs."
   ]
  },
  {
   "cell_type": "code",
   "execution_count": 65,
   "id": "352df320",
   "metadata": {},
   "outputs": [
    {
     "name": "stdout",
     "output_type": "stream",
     "text": [
      "TOP OF TABLE\n",
      "   boot_size  harness_size\n",
      "0         39            58\n",
      "1         38            58\n",
      "2         37            52\n",
      "3         39            58\n",
      "4         38            57\n",
      "\n",
      "BOTTOM OF TABLE\n",
      "    boot_size  harness_size\n",
      "45         41            57\n",
      "46         39            58\n",
      "47         39            57\n",
      "48         35            51\n",
      "49         39            59\n"
     ]
    }
   ],
   "source": [
    "# Print the data at the top of the table\n",
    "print(\"TOP OF TABLE\")\n",
    "print(dataset.head())\n",
    "\n",
    "# print the data at the bottom of the table\n",
    "print(\"\\nBOTTOM OF TABLE\")\n",
    "print(dataset.tail())"
   ]
  },
  {
   "cell_type": "markdown",
   "id": "6dfd7050",
   "metadata": {},
   "source": [
    "We can also filter logically. For example, we can look at data for dogs who have a harness smaller than a size 55.\n",
    "\n",
    "This works by calculating a `True` or `False` value for each row, then keeping only those rows where the value is `True`."
   ]
  },
  {
   "cell_type": "code",
   "execution_count": 66,
   "id": "2df33c31",
   "metadata": {},
   "outputs": [
    {
     "name": "stdout",
     "output_type": "stream",
     "text": [
      "We have 50 rows of data\n",
      "\n",
      "Whether the dog's harness was smaller than size 55:\n",
      "0     False\n",
      "1     False\n",
      "2      True\n",
      "3     False\n",
      "4     False\n",
      "5      True\n",
      "6     False\n",
      "7      True\n",
      "8      True\n",
      "9      True\n",
      "10    False\n",
      "11    False\n",
      "12     True\n",
      "13    False\n",
      "14    False\n",
      "15    False\n",
      "16    False\n",
      "17     True\n",
      "18     True\n",
      "19    False\n",
      "20    False\n",
      "21    False\n",
      "22    False\n",
      "23     True\n",
      "24    False\n",
      "25     True\n",
      "26     True\n",
      "27     True\n",
      "28    False\n",
      "29    False\n",
      "30    False\n",
      "31    False\n",
      "32    False\n",
      "33    False\n",
      "34    False\n",
      "35    False\n",
      "36     True\n",
      "37    False\n",
      "38    False\n",
      "39    False\n",
      "40    False\n",
      "41     True\n",
      "42     True\n",
      "43    False\n",
      "44    False\n",
      "45    False\n",
      "46    False\n",
      "47    False\n",
      "48     True\n",
      "49    False\n",
      "Name: harness_size, dtype: bool\n",
      "\n",
      "Data for dogs with harness smaller than size 55:\n",
      "    boot_size  harness_size\n",
      "2          37            52\n",
      "5          35            52\n",
      "7          36            53\n",
      "8          35            49\n",
      "9          40            54\n",
      "12         38            53\n",
      "17         36            51\n",
      "18         35            50\n",
      "23         35            50\n",
      "25         36            52\n",
      "26         35            53\n",
      "27         39            54\n",
      "36         36            53\n",
      "41         35            51\n",
      "42         36            52\n",
      "48         35            51\n",
      "\n",
      "Number of dogs with harness size less than 55: 16\n"
     ]
    }
   ],
   "source": [
    "# Print how many rows of data we have\n",
    "print(f\"We have {len(dataset)} rows of data\")\n",
    "\n",
    "# Determine whether each avalanche dog's harness size is < 55\n",
    "# This creates a True or False value for each row where True means \n",
    "# they are smaller than 55\n",
    "is_small = dataset.harness_size < 55\n",
    "print(\"\\nWhether the dog's harness was smaller than size 55:\")\n",
    "print(is_small)\n",
    "\n",
    "# Now apply this 'mask' to our data to keep the smaller dogs\n",
    "data_from_small_dogs = dataset[is_small]\n",
    "print(\"\\nData for dogs with harness smaller than size 55:\")\n",
    "print(data_from_small_dogs)\n",
    "\n",
    "# Print the number of small dogs\n",
    "print(f\"\\nNumber of dogs with harness size less than 55: {len(data_from_small_dogs)}\")"
   ]
  },
  {
   "cell_type": "markdown",
   "id": "f5547f83",
   "metadata": {},
   "source": [
    "This looks like a lot of code, but we can compress the important parts into a single line.\n",
    "\n",
    "Let's do something similar: restrict our data to only those with boot sizes smaller than 40. "
   ]
  },
  {
   "cell_type": "code",
   "execution_count": 67,
   "id": "b081d173",
   "metadata": {},
   "outputs": [
    {
     "name": "stdout",
     "output_type": "stream",
     "text": [
      "We now have 34 rows in our dataset. The last few rows are:\n"
     ]
    },
    {
     "data": {
      "text/html": [
       "<div>\n",
       "<style scoped>\n",
       "    .dataframe tbody tr th:only-of-type {\n",
       "        vertical-align: middle;\n",
       "    }\n",
       "\n",
       "    .dataframe tbody tr th {\n",
       "        vertical-align: top;\n",
       "    }\n",
       "\n",
       "    .dataframe thead th {\n",
       "        text-align: right;\n",
       "    }\n",
       "</style>\n",
       "<table border=\"1\" class=\"dataframe\">\n",
       "  <thead>\n",
       "    <tr style=\"text-align: right;\">\n",
       "      <th></th>\n",
       "      <th>boot_size</th>\n",
       "      <th>harness_size</th>\n",
       "    </tr>\n",
       "  </thead>\n",
       "  <tbody>\n",
       "    <tr>\n",
       "      <th>42</th>\n",
       "      <td>36</td>\n",
       "      <td>52</td>\n",
       "    </tr>\n",
       "    <tr>\n",
       "      <th>46</th>\n",
       "      <td>39</td>\n",
       "      <td>58</td>\n",
       "    </tr>\n",
       "    <tr>\n",
       "      <th>47</th>\n",
       "      <td>39</td>\n",
       "      <td>57</td>\n",
       "    </tr>\n",
       "    <tr>\n",
       "      <th>48</th>\n",
       "      <td>35</td>\n",
       "      <td>51</td>\n",
       "    </tr>\n",
       "    <tr>\n",
       "      <th>49</th>\n",
       "      <td>39</td>\n",
       "      <td>59</td>\n",
       "    </tr>\n",
       "  </tbody>\n",
       "</table>\n",
       "</div>"
      ],
      "text/plain": [
       "    boot_size  harness_size\n",
       "42         36            52\n",
       "46         39            58\n",
       "47         39            57\n",
       "48         35            51\n",
       "49         39            59"
      ]
     },
     "execution_count": 67,
     "metadata": {},
     "output_type": "execute_result"
    }
   ],
   "source": [
    "# Make a copy of the dataset that only contains dogs with \n",
    "# a boot size below size 40\n",
    "# The call to copy() is optional but can help avoid unexpected\n",
    "# behaviour in more complex scenarios\n",
    "data_smaller_paws = dataset[dataset.boot_size < 40].copy()\n",
    "\n",
    "\n",
    "# Print information about this\n",
    "print(f\"We now have {len(data_smaller_paws)} rows in our dataset. The last few rows are:\")\n",
    "data_smaller_paws.tail()"
   ]
  },
  {
   "cell_type": "markdown",
   "id": "d41e4caa",
   "metadata": {},
   "source": [
    "## Graph Data\n",
    "\n",
    "Graphing your data is often the easiest way to understand it. \n",
    "\n",
    "Lets make a simple graph of _harness size_ versus _boot size_ for our avalanche dogs with smaller feet. "
   ]
  },
  {
   "cell_type": "code",
   "execution_count": 68,
   "id": "dd8e1058",
   "metadata": {},
   "outputs": [
    {
     "data": {
      "text/plain": [
       "Text(0, 0.5, 'boot_size')"
      ]
     },
     "execution_count": 68,
     "metadata": {},
     "output_type": "execute_result"
    },
    {
     "data": {
      "image/png": "[encoded data removed]",
      "text/plain": [
       "<Figure size 640x480 with 1 Axes>"
      ]
     },
     "metadata": {},
     "output_type": "display_data"
    }
   ],
   "source": [
    "# Load and prepare matplotlib to use for plotting graphs\n",
    "import matplotlib.pyplot as plt\n",
    "\n",
    "\n",
    "# Show a graph of harness size by boot size:\n",
    "plt.scatter(data_smaller_paws[\"harness_size\"], data_smaller_paws[\"boot_size\"])\n",
    "\n",
    "# add labels\n",
    "plt.xlabel(\"harness_size\")\n",
    "plt.ylabel(\"boot_size\")"
   ]
  },
  {
   "cell_type": "markdown",
   "id": "ec0fecc2",
   "metadata": {},
   "source": [
    "## Create New Columns\n",
    "\n",
    "The preceding graph shows the relationship we want to investigate for our store, but some customers might want harness-size lists in inches, not centimeters. How can we view these harness sizes in imperial units?\n",
    "\n",
    "To do this, we need to create a new column called `harness_size_imperial` and put that on the X axis instead.\n",
    "\n",
    "Creating new columns uses very similar syntax to what we've seen before."
   ]
  },
  {
   "cell_type": "code",
   "execution_count": 69,
   "id": "35fd14f5",
   "metadata": {},
   "outputs": [
    {
     "data": {
      "text/plain": [
       "Text(0, 0.5, 'boot_size')"
      ]
     },
     "execution_count": 69,
     "metadata": {},
     "output_type": "execute_result"
    },
    {
     "data": {
      "image/png": "[encoded data removed]",
      "text/plain": [
       "<Figure size 640x480 with 1 Axes>"
      ]
     },
     "metadata": {},
     "output_type": "display_data"
    }
   ],
   "source": [
    "# Convert harness sizes from metric to imperial units \n",
    "# and save the result to a new column\n",
    "data_smaller_paws['harness_size_imperial'] = data_smaller_paws.harness_size / 2.54\n",
    "\n",
    "# Show a graph of harness size in imperial units\n",
    "plt.scatter(data_smaller_paws[\"harness_size_imperial\"], data_smaller_paws[\"boot_size\"])\n",
    "plt.xlabel(\"harness_size_imperial\")\n",
    "plt.ylabel(\"boot_size\")"
   ]
  },
  {
   "cell_type": "markdown",
   "id": "9055a907",
   "metadata": {},
   "source": [
    "We've now graphed our new column of data (`harness_size_imperial`) against boot size for dogs with small paws.\n",
    "\n",
    "## Summary\n",
    "\n",
    "We've introduced working with data in Python, including:\n",
    "\n",
    "* Opening data from a file into a `DataFrame` (table).\n",
    "* Inspecting the top and bottom of the dataframe.\n",
    "* Adding and removing columns of data.\n",
    "* Removing rows of data based on certain criteria.\n",
    "* Graphing data to understand trends.\n",
    "\n",
    "Learning to work with dataframes can feel tedious or dry, but keep going, because these basic skills are critical to unlocking the exciting machine-learning techniques that we cover in later modules."
   ]
  },
  {
   "cell_type": "markdown",
   "id": "f2dd891a",
   "metadata": {},
   "source": [
    "# How to use a model\n"
   ]
  },
  {
   "cell_type": "markdown",
   "id": "29b9a3a3",
   "metadata": {},
   "source": [
    "## Training versus using a model\n",
    "It's important to make a distinction between training and using a model.\n",
    "\n",
    "Using a model means providing inputs and receiving an estimation or prediction. We do this process both when we're training our model and when we or our customers use it in the real world. Using a model normally takes less than a few seconds.\n",
    "\n"
   ]
  },
  {
   "cell_type": "markdown",
   "id": "a0667da2",
   "metadata": {},
   "source": [
    "# Exercise: Using a Trained Model on New Data\n",
    "\n",
    "In Unit 3, we created a basic model that let us find the relationship between a dog's harness size and their boot size. We showed how this model could then be used to make a prediction about a new, previously unseen dog.\n",
    "\n",
    "It's common to build, train, then use a model while we are just learning about machine learning; but in the real world, we don't want to train the model _every time_ we want to make a prediction.\n",
    "\n",
    "Consider our avalanche-dog equipment store scenario:\n",
    "\n",
    "* We want to train the model just once, then load that model onto the server that runs our online store. \n",
    "* Although the model is _trained_ on a dataset we downloaded from the internet, we actually want to _use_ it to estimate the boot size of our customers' dogs who are not in this dataset! \n",
    "\n",
    "How can we do this?\n",
    "\n",
    "Here, we'll:\n",
    "\n",
    "1. Create a basic model\n",
    "2. Save it to disk\n",
    "3. Load it from disk\n",
    "4. Use it to make predictions about a dog who was not in the training dataset\n",
    "\n",
    "## Load the dataset\n",
    "\n",
    "Let's begin by opening the dataset from file."
   ]
  },
  {
   "cell_type": "code",
   "execution_count": 70,
   "id": "dbcafbeb",
   "metadata": {},
   "outputs": [
    {
     "name": "stdout",
     "output_type": "stream",
     "text": [
      "Requirement already satisfied: statsmodels in c:\\users\\sidda\\anaconda3\\lib\\site-packages (0.14.0)\n",
      "Requirement already satisfied: numpy>=1.18 in c:\\users\\sidda\\anaconda3\\lib\\site-packages (from statsmodels) (1.24.3)\n",
      "Requirement already satisfied: scipy!=1.9.2,>=1.4 in c:\\users\\sidda\\anaconda3\\lib\\site-packages (from statsmodels) (1.11.1)\n",
      "Requirement already satisfied: pandas>=1.0 in c:\\users\\sidda\\anaconda3\\lib\\site-packages (from statsmodels) (2.0.3)\n",
      "Requirement already satisfied: patsy>=0.5.2 in c:\\users\\sidda\\anaconda3\\lib\\site-packages (from statsmodels) (0.5.3)\n",
      "Requirement already satisfied: packaging>=21.3 in c:\\users\\sidda\\anaconda3\\lib\\site-packages (from statsmodels) (23.1)\n",
      "Requirement already satisfied: python-dateutil>=2.8.2 in c:\\users\\sidda\\anaconda3\\lib\\site-packages (from pandas>=1.0->statsmodels) (2.8.2)\n",
      "Requirement already satisfied: pytz>=2020.1 in c:\\users\\sidda\\anaconda3\\lib\\site-packages (from pandas>=1.0->statsmodels) (2023.3.post1)\n",
      "Requirement already satisfied: tzdata>=2022.1 in c:\\users\\sidda\\anaconda3\\lib\\site-packages (from pandas>=1.0->statsmodels) (2023.3)\n",
      "Requirement already satisfied: six in c:\\users\\sidda\\anaconda3\\lib\\site-packages (from patsy>=0.5.2->statsmodels) (1.16.0)\n"
     ]
    },
    {
     "name": "stderr",
     "output_type": "stream",
     "text": [
      "'wget' is not recognized as an internal or external command,\n",
      "operable program or batch file.\n",
      "'wget' is not recognized as an internal or external command,\n",
      "operable program or batch file.\n"
     ]
    },
    {
     "data": {
      "text/html": [
       "<div>\n",
       "<style scoped>\n",
       "    .dataframe tbody tr th:only-of-type {\n",
       "        vertical-align: middle;\n",
       "    }\n",
       "\n",
       "    .dataframe tbody tr th {\n",
       "        vertical-align: top;\n",
       "    }\n",
       "\n",
       "    .dataframe thead th {\n",
       "        text-align: right;\n",
       "    }\n",
       "</style>\n",
       "<table border=\"1\" class=\"dataframe\">\n",
       "  <thead>\n",
       "    <tr style=\"text-align: right;\">\n",
       "      <th></th>\n",
       "      <th>boot_size</th>\n",
       "      <th>harness_size</th>\n",
       "      <th>sex</th>\n",
       "      <th>age_years</th>\n",
       "    </tr>\n",
       "  </thead>\n",
       "  <tbody>\n",
       "    <tr>\n",
       "      <th>0</th>\n",
       "      <td>39</td>\n",
       "      <td>58</td>\n",
       "      <td>male</td>\n",
       "      <td>12.0</td>\n",
       "    </tr>\n",
       "    <tr>\n",
       "      <th>1</th>\n",
       "      <td>38</td>\n",
       "      <td>58</td>\n",
       "      <td>male</td>\n",
       "      <td>9.6</td>\n",
       "    </tr>\n",
       "    <tr>\n",
       "      <th>2</th>\n",
       "      <td>37</td>\n",
       "      <td>52</td>\n",
       "      <td>female</td>\n",
       "      <td>8.6</td>\n",
       "    </tr>\n",
       "    <tr>\n",
       "      <th>3</th>\n",
       "      <td>39</td>\n",
       "      <td>58</td>\n",
       "      <td>male</td>\n",
       "      <td>10.2</td>\n",
       "    </tr>\n",
       "    <tr>\n",
       "      <th>4</th>\n",
       "      <td>38</td>\n",
       "      <td>57</td>\n",
       "      <td>male</td>\n",
       "      <td>7.8</td>\n",
       "    </tr>\n",
       "  </tbody>\n",
       "</table>\n",
       "</div>"
      ],
      "text/plain": [
       "   boot_size  harness_size     sex  age_years\n",
       "0         39            58    male       12.0\n",
       "1         38            58    male        9.6\n",
       "2         37            52  female        8.6\n",
       "3         39            58    male       10.2\n",
       "4         38            57    male        7.8"
      ]
     },
     "execution_count": 70,
     "metadata": {},
     "output_type": "execute_result"
    }
   ],
   "source": [
    "import pandas\n",
    "!pip install statsmodels\n",
    "!wget https://raw.githubusercontent.com/MicrosoftDocs/mslearn-introduction-to-machine-learning/main/graphing.py\n",
    "!wget https://raw.githubusercontent.com/MicrosoftDocs/mslearn-introduction-to-machine-learning/main/Data/doggy-boot-harness.csv\n",
    "\n",
    "# Load a file containing dog's boot and harness sizes\n",
    "data = pandas.read_csv(r\"C:\\Users\\Sidda\\Downloads\\doggy-boot-harness.csv\")\n",
    "\n",
    "# Print the first few rows\n",
    "data.head()\n"
   ]
  },
  {
   "cell_type": "markdown",
   "id": "4e659d03",
   "metadata": {},
   "source": [
    "## Create and train a model\n",
    "\n",
    "As we've done before, we create a simple Linear Regression model and train it on our dataset."
   ]
  },
  {
   "cell_type": "code",
   "execution_count": 71,
   "id": "3f393b07",
   "metadata": {},
   "outputs": [
    {
     "name": "stdout",
     "output_type": "stream",
     "text": [
      "Model trained!\n"
     ]
    }
   ],
   "source": [
    "import statsmodels.formula.api as smf\n",
    "\n",
    "# Fit a simple model that finds a linear relationship\n",
    "# between boot size and harness size, which we can use later\n",
    "# to predict a dog's boot size, given their harness size\n",
    "model = smf.ols(formula = \"boot_size ~ harness_size\", data = data).fit()\n",
    "\n",
    "print(\"Model trained!\")"
   ]
  },
  {
   "cell_type": "markdown",
   "id": "a98d1d37",
   "metadata": {},
   "source": [
    "## Save and load a model\n",
    "\n",
    "Our model is ready to use, but we don't need it yet. Let's save it to disk."
   ]
  },
  {
   "cell_type": "code",
   "execution_count": 72,
   "id": "20ae9926",
   "metadata": {},
   "outputs": [
    {
     "name": "stdout",
     "output_type": "stream",
     "text": [
      "Model saved!\n"
     ]
    }
   ],
   "source": [
    "import joblib\n",
    "\n",
    "model_filename = './avalanche_dog_boot_model.pkl'\n",
    "joblib.dump(model, model_filename)\n",
    "\n",
    "print(\"Model saved!\")"
   ]
  },
  {
   "cell_type": "code",
   "execution_count": 73,
   "id": "16e6b6fb",
   "metadata": {},
   "outputs": [
    {
     "name": "stdout",
     "output_type": "stream",
     "text": [
      "We have loaded a model with the following parameters:\n",
      "Intercept       5.719110\n",
      "harness_size    0.585925\n",
      "dtype: float64\n"
     ]
    }
   ],
   "source": [
    "model_loaded = joblib.load(model_filename)\n",
    "\n",
    "print(\"We have loaded a model with the following parameters:\")\n",
    "print(model_loaded.params)"
   ]
  },
  {
   "cell_type": "markdown",
   "id": "27e27703",
   "metadata": {},
   "source": [
    "## Put it together\n",
    "\n",
    "On our website, we want to take the harness of our customer's dog, then calculate their dog's boot size using the model that we've already trained.\n",
    "\n",
    "Let's put everything here together to make a function that loads the model from disk, then uses it to predict our customer's dog's boot size."
   ]
  },
  {
   "cell_type": "code",
   "execution_count": 74,
   "id": "38bc8a17",
   "metadata": {},
   "outputs": [
    {
     "name": "stdout",
     "output_type": "stream",
     "text": [
      "We've loaded a model with the following parameters:\n",
      "Intercept       5.719110\n",
      "harness_size    0.585925\n",
      "dtype: float64\n",
      "Predicted dog boot size: 32.085753565904795\n"
     ]
    }
   ],
   "source": [
    "# Let's write a function that loads and uses our model\n",
    "def load_model_and_predict(harness_size):\n",
    "    '''\n",
    "    This function loads a pretrained model. It uses the model\n",
    "    with the customer's dog's harness size to predict the size of\n",
    "    boots that will fit that dog.\n",
    "\n",
    "    harness_size: The dog harness size, in cm \n",
    "    '''\n",
    "\n",
    "    # Load the model from file and print basic information about it\n",
    "    loaded_model = joblib.load(model_filename)\n",
    "\n",
    "    print(\"We've loaded a model with the following parameters:\")\n",
    "    print(loaded_model.params)\n",
    "\n",
    "    # Prepare data for the model\n",
    "    inputs = {\"harness_size\":[harness_size]} \n",
    "\n",
    "    # Use the model to make a prediction\n",
    "    predicted_boot_size = loaded_model.predict(inputs)[0]\n",
    "\n",
    "    return predicted_boot_size\n",
    "\n",
    "# Practice using our model\n",
    "predicted_boot_size = load_model_and_predict(45)\n",
    "\n",
    "print(\"Predicted dog boot size:\", predicted_boot_size)"
   ]
  },
  {
   "cell_type": "markdown",
   "id": "0eebad27",
   "metadata": {},
   "source": [
    "## Real world use \n",
    "\n",
    "We've done it; we can predict an avalanche dog's boot size based on the size of their harness. Our last step is to use this to warn people if they might be buying the wrong sized doggy boots. \n",
    "\n",
    "As an example, we make a function that accepts the harness size, the size of the boots selected, and returns a message for the customer. We would integrate this function into our online store."
   ]
  },
  {
   "cell_type": "code",
   "execution_count": 75,
   "id": "a59898fb",
   "metadata": {},
   "outputs": [
    {
     "name": "stdout",
     "output_type": "stream",
     "text": [
      "We've loaded a model with the following parameters:\n",
      "Intercept       5.719110\n",
      "harness_size    0.585925\n",
      "dtype: float64\n"
     ]
    },
    {
     "data": {
      "text/plain": [
       "'The boots you have selected might be TOO BIG for a dog as small as yours. We recommend a doggy boots size of 38.'"
      ]
     },
     "execution_count": 75,
     "metadata": {},
     "output_type": "execute_result"
    }
   ],
   "source": [
    "def check_size_of_boots(selected_harness_size, selected_boot_size):\n",
    "    '''\n",
    "    Calculates whether the customer has chosen a pair of doggy boots that \n",
    "    are a sensible size. This works by estimating the dog's actual boot \n",
    "    size from their harness size.\n",
    "\n",
    "    This returns a message for the customer that should be shown before\n",
    "    they complete their payment \n",
    "\n",
    "    selected_harness_size: The size of the harness the customer wants to buy\n",
    "    selected_boot_size: The size of the doggy boots the customer wants to buy\n",
    "    '''\n",
    "\n",
    "    # Estimate the customer's dog's boot size\n",
    "    estimated_boot_size = load_model_and_predict(selected_harness_size)\n",
    "\n",
    "    # Round to the nearest whole number because we don't sell partial sizes\n",
    "    estimated_boot_size = int(round(estimated_boot_size))\n",
    "\n",
    "    # Check if the boot size selected is appropriate\n",
    "    if selected_boot_size == estimated_boot_size:\n",
    "        # The selected boots are probably OK\n",
    "        return f\"Great choice! We think these boots will fit your avalanche dog well.\"\n",
    "\n",
    "    if selected_boot_size < estimated_boot_size:\n",
    "        # Selected boots might be too small \n",
    "        return \"The boots you have selected might be TOO SMALL for a dog as \"\\\n",
    "               f\"big as yours. We recommend a doggy boots size of {estimated_boot_size}.\"\n",
    "\n",
    "    if selected_boot_size > estimated_boot_size:\n",
    "        # Selected boots might be too big \n",
    "        return \"The boots you have selected might be TOO BIG for a dog as \"\\\n",
    "               f\"small as yours. We recommend a doggy boots size of {estimated_boot_size}.\"\n",
    "    \n",
    "\n",
    "# Practice using our new warning system\n",
    "check_size_of_boots(selected_harness_size=55, selected_boot_size=39)"
   ]
  },
  {
   "cell_type": "markdown",
   "id": "617107aa",
   "metadata": {},
   "source": [
    "Change `selected_harness_size` and `selected_boot_size` in the preceding example and re-run the cell to see this in action.\n",
    "\n",
    "## Summary\n",
    "\n",
    "Well done! We've put together a system that can predict if customers are buying doggy boots that may not fit their avalanche dog, based solely on the size of harness they're purchasing. \n",
    "\n",
    "In this exercise, we practiced:\n",
    "\n",
    "1. Creating basic models\n",
    "2. Training, then saving them to disk\n",
    "3. Loading them from disk\n",
    "4. Making predictions with them using new data sets"
   ]
  },
  {
   "cell_type": "code",
   "execution_count": null,
   "id": "ca6cc912",
   "metadata": {},
   "outputs": [],
   "source": []
  }
 ],
 "metadata": {
  "kernelspec": {
   "display_name": "Python 3 (ipykernel)",
   "language": "python",
   "name": "python3"
  },
  "language_info": {
   "codemirror_mode": {
    "name": "ipython",
    "version": 3
   },
   "file_extension": ".py",
   "mimetype": "text/x-python",
   "name": "python",
   "nbconvert_exporter": "python",
   "pygments_lexer": "ipython3",
   "version": "3.11.5"
  }
 },
 "nbformat": 4,
 "nbformat_minor": 5
}
